{
 "cells": [
  {
   "cell_type": "code",
   "execution_count": 1,
   "id": "2aa3c802",
   "metadata": {},
   "outputs": [],
   "source": [
    "import numpy as np\n",
    "import pandas as pd"
   ]
  },
  {
   "cell_type": "code",
   "execution_count": 2,
   "id": "7efe5df6",
   "metadata": {},
   "outputs": [],
   "source": [
    "populasyon = np.random.randint(0,2000,10000)"
   ]
  },
  {
   "cell_type": "code",
   "execution_count": 3,
   "id": "933cbe47",
   "metadata": {},
   "outputs": [
    {
     "data": {
      "text/plain": [
       "array([1955,  398, 1154, ..., 1506,  609,  376])"
      ]
     },
     "execution_count": 3,
     "metadata": {},
     "output_type": "execute_result"
    }
   ],
   "source": [
    "populasyon"
   ]
  },
  {
   "cell_type": "code",
   "execution_count": 35,
   "id": "310f6c30",
   "metadata": {},
   "outputs": [
    {
     "data": {
      "text/plain": [
       "1001.8868"
      ]
     },
     "execution_count": 35,
     "metadata": {},
     "output_type": "execute_result"
    }
   ],
   "source": [
    "populasyon.mean()"
   ]
  },
  {
   "cell_type": "code",
   "execution_count": 4,
   "id": "46fe0bab",
   "metadata": {},
   "outputs": [],
   "source": [
    "np.random.seed(115)"
   ]
  },
  {
   "cell_type": "code",
   "execution_count": 5,
   "id": "81d11010",
   "metadata": {},
   "outputs": [],
   "source": [
    "orneklem1=np.random.choice(populasyon, 100)"
   ]
  },
  {
   "cell_type": "code",
   "execution_count": 6,
   "id": "87d7f0dd",
   "metadata": {},
   "outputs": [
    {
     "data": {
      "text/plain": [
       "array([1650, 1618,  594, 1351, 1696, 1329, 1504,  486,   30,  918,  592,\n",
       "        684,  225, 1787, 1037,  181, 1884,  177, 1595,  143, 1376, 1542,\n",
       "        134, 1938, 1044,  965,  449, 1937,  137, 1196,  738,  480, 1876,\n",
       "        762,  923, 1143, 1952, 1578,   33, 1258,  314, 1858, 1659,  278,\n",
       "       1023, 1870, 1479,   15, 1191, 1686,  221, 1126, 1207,   35,  160,\n",
       "       1970,  445,  672, 1004,  536, 1730,  349, 1342, 1539,  732, 1987,\n",
       "       1617,   50, 1962, 1457, 1058,  358, 1622, 1562, 1025,  495,  677,\n",
       "        937, 1883,  728,  911,  693, 1144,  943,  959, 1033, 1423,  519,\n",
       "        106, 1985, 1620, 1614, 1785, 1186,  150, 1165,  144,    9,  652,\n",
       "       1397])"
      ]
     },
     "execution_count": 6,
     "metadata": {},
     "output_type": "execute_result"
    }
   ],
   "source": [
    "orneklem1"
   ]
  },
  {
   "cell_type": "code",
   "execution_count": 7,
   "id": "c10d2ad5",
   "metadata": {},
   "outputs": [],
   "source": [
    "import scipy.stats as stats"
   ]
  },
  {
   "cell_type": "code",
   "execution_count": 8,
   "id": "1ecbfd57",
   "metadata": {},
   "outputs": [],
   "source": [
    "orneklem_1 = orneklem1.copy()\n",
    "orneklem_1 = pd.DataFrame(orneklem_1)"
   ]
  },
  {
   "cell_type": "code",
   "execution_count": 16,
   "id": "432d1a26",
   "metadata": {},
   "outputs": [
    {
     "data": {
      "text/html": [
       "<div>\n",
       "<style scoped>\n",
       "    .dataframe tbody tr th:only-of-type {\n",
       "        vertical-align: middle;\n",
       "    }\n",
       "\n",
       "    .dataframe tbody tr th {\n",
       "        vertical-align: top;\n",
       "    }\n",
       "\n",
       "    .dataframe thead th {\n",
       "        text-align: right;\n",
       "    }\n",
       "</style>\n",
       "<table border=\"1\" class=\"dataframe\">\n",
       "  <thead>\n",
       "    <tr style=\"text-align: right;\">\n",
       "      <th></th>\n",
       "      <th>count</th>\n",
       "      <th>mean</th>\n",
       "      <th>std</th>\n",
       "      <th>min</th>\n",
       "      <th>25%</th>\n",
       "      <th>50%</th>\n",
       "      <th>75%</th>\n",
       "      <th>max</th>\n",
       "    </tr>\n",
       "  </thead>\n",
       "  <tbody>\n",
       "    <tr>\n",
       "      <th>0</th>\n",
       "      <td>100.0</td>\n",
       "      <td>1022.39</td>\n",
       "      <td>614.630215</td>\n",
       "      <td>9.0</td>\n",
       "      <td>492.75</td>\n",
       "      <td>1035.0</td>\n",
       "      <td>1582.25</td>\n",
       "      <td>1987.0</td>\n",
       "    </tr>\n",
       "  </tbody>\n",
       "</table>\n",
       "</div>"
      ],
      "text/plain": [
       "   count     mean         std  min     25%     50%      75%     max\n",
       "0  100.0  1022.39  614.630215  9.0  492.75  1035.0  1582.25  1987.0"
      ]
     },
     "execution_count": 16,
     "metadata": {},
     "output_type": "execute_result"
    }
   ],
   "source": [
    "orneklem_1.describe().T"
   ]
  },
  {
   "cell_type": "code",
   "execution_count": 11,
   "id": "62b64fce",
   "metadata": {},
   "outputs": [
    {
     "data": {
      "text/plain": [
       "DescribeResult(nobs=100, minmax=(9, 1987), mean=1022.39, variance=377770.30090909085, skewness=-0.09482493920495454, kurtosis=-1.2337068467719452)"
      ]
     },
     "execution_count": 11,
     "metadata": {},
     "output_type": "execute_result"
    }
   ],
   "source": [
    "stats.describe(orneklem1)"
   ]
  },
  {
   "cell_type": "markdown",
   "id": "8b9a4cfd",
   "metadata": {},
   "source": [
    "# H0 : Bilinmeyen ana kütle ortalaması(mü), 1000'e eşittir.\n",
    "# H1: Bilinmeyen ana kütle ortalaması(mü), 1000'den farklıdır. "
   ]
  },
  {
   "cell_type": "code",
   "execution_count": 15,
   "id": "69e8499e",
   "metadata": {},
   "outputs": [
    {
     "data": {
      "text/plain": [
       "<AxesSubplot:ylabel='Frequency'>"
      ]
     },
     "execution_count": 15,
     "metadata": {},
     "output_type": "execute_result"
    },
    {
     "data": {
      "image/png": "[encoded data removed]",
      "text/plain": [
       "<Figure size 432x288 with 1 Axes>"
      ]
     },
     "metadata": {
      "needs_background": "light"
     },
     "output_type": "display_data"
    }
   ],
   "source": [
    "#Normallik Varsayımı Kontrolü\n",
    "#Histogram\n",
    "orneklem_1.plot.hist()"
   ]
  },
  {
   "cell_type": "code",
   "execution_count": 18,
   "id": "af040484",
   "metadata": {},
   "outputs": [
    {
     "data": {
      "image/png": "[encoded data removed]",
      "text/plain": [
       "<Figure size 432x288 with 1 Axes>"
      ]
     },
     "metadata": {
      "needs_background": "light"
     },
     "output_type": "display_data"
    }
   ],
   "source": [
    "#qqplot\n",
    "import pylab\n",
    "stats.probplot(orneklem1, dist=\"norm\", plot=pylab)\n",
    "pylab.show()"
   ]
  },
  {
   "cell_type": "code",
   "execution_count": 29,
   "id": "f4d2a520",
   "metadata": {},
   "outputs": [
    {
     "name": "stdout",
     "output_type": "stream",
     "text": [
      "T Hesap İstatistiği:  0.9422145485877991\n",
      "p-value:  0.0002638059377204627\n"
     ]
    }
   ],
   "source": [
    "#Shapiro-Wilks Test\n",
    "\n",
    "#H0: Örnek dağılımı ile teorik dağılım arasında(Normal Dağılım) istatistiksel olarak anlamlı bir fark yoktur.\n",
    "#H1: Örnek dağılımı ile teorik dağılım arasında istatistiksel olarak anlamlı bir fark vardır.\n",
    "\n",
    "from scipy.stats import shapiro\n",
    "shapiro(orneklem1)\n",
    "print(\"T Hesap İstatistiği: \", shapiro(orneklem1)[0])\n",
    "print(\"p-value: \", shapiro(orneklem1)[1])\n",
    "#ShapiroResult(statistic=0.9422145485877991, pvalue=0.0002638059377204627), p-value<0.05 olduğundan H0 ret edildi. \n",
    "#Tek Örneklem T Testi'nin var sayımı olan normallik, sağlanamadığından t-testine devam edilmemelidir."
   ]
  },
  {
   "cell_type": "code",
   "execution_count": 30,
   "id": "46c7e872",
   "metadata": {},
   "outputs": [],
   "source": [
    "#Aynı dağılım içinden yeni bir örneklem seçsek aynı sonucu verir mi? \n",
    "orneklem2 = np.random.choice(populasyon, 100)"
   ]
  },
  {
   "cell_type": "code",
   "execution_count": 37,
   "id": "fe7ac45a",
   "metadata": {},
   "outputs": [
    {
     "data": {
      "text/plain": [
       "array([ 574,  503, 1567, 1955,  909, 1592,  883,   69, 1568,  953, 1337,\n",
       "       1831, 1406,  102,  395,  177, 1813,  503,  753,  691, 1492,  332,\n",
       "        420,  681,  617,  799,  795,  561,  371, 1422, 1421,  623, 1118,\n",
       "       1045,  427,  745, 1856,  519,   74,  188, 1928, 1429, 1735,  718,\n",
       "        317,  272, 1470,  380, 1241, 1757, 1653,  500,  915,  643, 1968,\n",
       "       1886, 1362,  994, 1208,  150,  187, 1361, 1870,  115,  787,  937,\n",
       "       1221,  968, 1046,  773,  950,  112, 1800,  845,  743,  533, 1083,\n",
       "       1518, 1881, 1150, 1028,  940, 1160,  138, 1253,  944,  824,  446,\n",
       "        515,  574,  710, 1961, 1634,  869, 1922,  747, 1316, 1442, 1219,\n",
       "        550])"
      ]
     },
     "execution_count": 37,
     "metadata": {},
     "output_type": "execute_result"
    }
   ],
   "source": [
    "orneklem2"
   ]
  },
  {
   "cell_type": "code",
   "execution_count": 33,
   "id": "b24f90af",
   "metadata": {},
   "outputs": [
    {
     "data": {
      "text/plain": [
       "DescribeResult(nobs=100, minmax=(69, 1968), mean=976.85, variance=297915.88636363635, skewness=0.2012784570019343, kurtosis=-0.9973421019071269)"
      ]
     },
     "execution_count": 33,
     "metadata": {},
     "output_type": "execute_result"
    }
   ],
   "source": [
    "stats.describe(orneklem2)"
   ]
  },
  {
   "cell_type": "code",
   "execution_count": 36,
   "id": "68a3c894",
   "metadata": {},
   "outputs": [
    {
     "data": {
      "text/plain": [
       "ShapiroResult(statistic=0.9593887329101562, pvalue=0.0036381075624376535)"
      ]
     },
     "execution_count": 36,
     "metadata": {},
     "output_type": "execute_result"
    }
   ],
   "source": [
    "shapiro(orneklem2)"
   ]
  },
  {
   "cell_type": "code",
   "execution_count": 72,
   "id": "7d2f2b97",
   "metadata": {},
   "outputs": [
    {
     "data": {
      "text/plain": [
       "(50.0, 1.5777218104420236e-30)"
      ]
     },
     "execution_count": 72,
     "metadata": {},
     "output_type": "execute_result"
    }
   ],
   "source": [
    "#Nonparametric One-Sample T Test\n",
    "from statsmodels.stats.descriptivestats import sign_test\n",
    "sign_test(orneklem2)\n",
    "#p-value<0.05, so h0 hypothesis will be rejected."
   ]
  },
  {
   "cell_type": "markdown",
   "id": "ec17133f",
   "metadata": {},
   "source": [
    "# Normal Dağılıma Sahip Bir Populasyonun Testi"
   ]
  },
  {
   "cell_type": "code",
   "execution_count": 50,
   "id": "dcd0e65f",
   "metadata": {},
   "outputs": [],
   "source": [
    "#Normal dağılıma sahip bir popülasyon oluşturalım:\n",
    "\n",
    "#import random\n",
    "import numpy as np\n",
    "\n",
    "# Set mean and standard deviation for normal distribution\n",
    "mean = 1000\n",
    "std_dev = 40\n",
    "\n",
    "# Generate 10000 normally distributed random numbers\n",
    "population = np.random.normal(mean, std_dev, 10000)\n",
    "\n",
    "# Convert any values less than 1 to 1 and any values greater than 2000 to 2000\n",
    "population = np.clip(population, 1, 2000)\n",
    "\n",
    "# Round each value to the nearest integer\n",
    "population = np.round(population).astype(int)\n"
   ]
  },
  {
   "cell_type": "markdown",
   "id": "f8fdbbbb",
   "metadata": {},
   "source": [
    "# H0: μ = 1018\n",
    "# H1: μ !=1018"
   ]
  },
  {
   "cell_type": "code",
   "execution_count": 59,
   "id": "4e1b72ba",
   "metadata": {},
   "outputs": [
    {
     "data": {
      "text/plain": [
       "1000.2365"
      ]
     },
     "execution_count": 59,
     "metadata": {},
     "output_type": "execute_result"
    }
   ],
   "source": [
    "population.mean()"
   ]
  },
  {
   "cell_type": "code",
   "execution_count": 51,
   "id": "0b95ba8f",
   "metadata": {},
   "outputs": [
    {
     "data": {
      "text/plain": [
       "<AxesSubplot:ylabel='Frequency'>"
      ]
     },
     "execution_count": 51,
     "metadata": {},
     "output_type": "execute_result"
    },
    {
     "data": {
      "image/png": "[encoded data removed]",
      "text/plain": [
       "<Figure size 432x288 with 1 Axes>"
      ]
     },
     "metadata": {
      "needs_background": "light"
     },
     "output_type": "display_data"
    }
   ],
   "source": [
    "pd.DataFrame(population).plot.hist()"
   ]
  },
  {
   "cell_type": "code",
   "execution_count": 53,
   "id": "db64be8c",
   "metadata": {},
   "outputs": [
    {
     "data": {
      "text/plain": [
       "ShapiroResult(statistic=0.9912230372428894, pvalue=0.7625174522399902)"
      ]
     },
     "execution_count": 53,
     "metadata": {},
     "output_type": "execute_result"
    }
   ],
   "source": [
    "# H0: Örnek dağılımı ile teorik normal dağılım arasında istatistiksel olarak anlamlı bir fark yoktur.\n",
    "# H1: Örnek dağılımı ile teorik normal dağılım arasında istatistiksel olarak anlamlı bir fark vardır.\n",
    "sample = np.random.choice(population, 100)\n",
    "shapiro(sample)"
   ]
  },
  {
   "cell_type": "code",
   "execution_count": null,
   "id": "08aea01e",
   "metadata": {},
   "outputs": [],
   "source": [
    "# p-value > 0.05 olduğundan H0 ret edilemez. Normallik var sayımı sağlanmıştır."
   ]
  },
  {
   "cell_type": "code",
   "execution_count": 70,
   "id": "f00ec900",
   "metadata": {},
   "outputs": [
    {
     "data": {
      "text/plain": [
       "Ttest_1sampResult(statistic=-2.1918641600790845, pvalue=0.030733325348632465)"
      ]
     },
     "execution_count": 70,
     "metadata": {},
     "output_type": "execute_result"
    }
   ],
   "source": [
    "#One-Sample T Test\n",
    "stats.ttest_1samp(sample, popmean=1018)"
   ]
  },
  {
   "cell_type": "code",
   "execution_count": null,
   "id": "f1aa9bb2",
   "metadata": {},
   "outputs": [],
   "source": [
    "# One Sample T Test sonucunda da %95 güvenle H0 ret edilemeyerek popülasyon ortalamasının 1018'den farklı olmadığı kanıtlanmıştır. "
   ]
  },
  {
   "cell_type": "markdown",
   "id": "846523f1",
   "metadata": {},
   "source": [
    "# İş Uygulaması: Dönüşüm Oranı Testi"
   ]
  },
  {
   "cell_type": "code",
   "execution_count": null,
   "id": "03554c11",
   "metadata": {},
   "outputs": [],
   "source": [
    "#Hipotezlerin Kurulması \n",
    "\n",
    "H0: p = 0.125 (#Ürün satın almasına ilişkin dönüşüm oranı 0.125'tir.)\n",
    "H1: p!= 0.125"
   ]
  },
  {
   "cell_type": "code",
   "execution_count": 1,
   "id": "ebb1fc59",
   "metadata": {},
   "outputs": [],
   "source": [
    "from statsmodels.stats.proportion import proportions_ztest"
   ]
  },
  {
   "cell_type": "code",
   "execution_count": 2,
   "id": "2055c599",
   "metadata": {},
   "outputs": [],
   "source": [
    "countSuccess=40\n",
    "nobs=500\n",
    "value=0.125"
   ]
  },
  {
   "cell_type": "code",
   "execution_count": 3,
   "id": "1b1212cc",
   "metadata": {},
   "outputs": [
    {
     "data": {
      "text/plain": [
       "(-3.7090151628513017, 0.0002080669689845979)"
      ]
     },
     "execution_count": 3,
     "metadata": {},
     "output_type": "execute_result"
    }
   ],
   "source": [
    "proportions_ztest(countSuccess, nobs, value)"
   ]
  },
  {
   "cell_type": "markdown",
   "id": "80cafa35",
   "metadata": {},
   "source": [
    "# A/B TESTİ (BAĞIMSIZ İKİ ÖRNEKLEM T TESTİ)"
   ]
  },
  {
   "cell_type": "markdown",
   "id": "e276562a",
   "metadata": {},
   "source": [
    "H0: μ1 = μ2 (A, eski sistemin gösterilerine göre insanlar ürün aldıktan belirli bir süre sonra ortaya çıkan gelirlerin ortalamasıyla, B, yani yeni sistemin gösterilerine göre ürünler alındığında ortaya çıkan gelirlerin ortalaması birbirine eşittir.)\n",
    "H1: μ1 != μ2 "
   ]
  },
  {
   "cell_type": "code",
   "execution_count": null,
   "id": "ed92880d",
   "metadata": {},
   "outputs": [],
   "source": [
    "# GELEBİLECEK VERİ TİPİ 1"
   ]
  },
  {
   "cell_type": "code",
   "execution_count": 5,
   "id": "9dfc73da",
   "metadata": {},
   "outputs": [],
   "source": [
    "A = pd.DataFrame([30,27,21,27,29,30,20,20,27,32,35,22,24,23,25,27,23,27,23,25,21,18,24,26,33,26,27,28,19,25])\n",
    "B = pd.DataFrame([37,39,31,31,34,38,30,36,29,28,38,28,37,37,30,32,31,31,27,32,33,33,33,31,32,33,26,32,33,29])"
   ]
  },
  {
   "cell_type": "code",
   "execution_count": 20,
   "id": "d3d4609e",
   "metadata": {},
   "outputs": [
    {
     "data": {
      "text/html": [
       "<div>\n",
       "<style scoped>\n",
       "    .dataframe tbody tr th:only-of-type {\n",
       "        vertical-align: middle;\n",
       "    }\n",
       "\n",
       "    .dataframe tbody tr th {\n",
       "        vertical-align: top;\n",
       "    }\n",
       "\n",
       "    .dataframe thead th {\n",
       "        text-align: right;\n",
       "    }\n",
       "</style>\n",
       "<table border=\"1\" class=\"dataframe\">\n",
       "  <thead>\n",
       "    <tr style=\"text-align: right;\">\n",
       "      <th></th>\n",
       "      <th>A</th>\n",
       "      <th>B</th>\n",
       "    </tr>\n",
       "  </thead>\n",
       "  <tbody>\n",
       "    <tr>\n",
       "      <th>0</th>\n",
       "      <td>30</td>\n",
       "      <td>37</td>\n",
       "    </tr>\n",
       "    <tr>\n",
       "      <th>1</th>\n",
       "      <td>27</td>\n",
       "      <td>39</td>\n",
       "    </tr>\n",
       "    <tr>\n",
       "      <th>2</th>\n",
       "      <td>21</td>\n",
       "      <td>31</td>\n",
       "    </tr>\n",
       "    <tr>\n",
       "      <th>3</th>\n",
       "      <td>27</td>\n",
       "      <td>31</td>\n",
       "    </tr>\n",
       "    <tr>\n",
       "      <th>4</th>\n",
       "      <td>29</td>\n",
       "      <td>34</td>\n",
       "    </tr>\n",
       "  </tbody>\n",
       "</table>\n",
       "</div>"
      ],
      "text/plain": [
       "    A   B\n",
       "0  30  37\n",
       "1  27  39\n",
       "2  21  31\n",
       "3  27  31\n",
       "4  29  34"
      ]
     },
     "execution_count": 20,
     "metadata": {},
     "output_type": "execute_result"
    }
   ],
   "source": [
    "A_B = pd.concat([A,B], axis=1)\n",
    "A_B.columns = [\"A\", \"B\"]\n",
    "A_B.head()"
   ]
  },
  {
   "cell_type": "code",
   "execution_count": 22,
   "id": "249a6544",
   "metadata": {},
   "outputs": [],
   "source": [
    "# GELEBİLECEK VERİ TİPİ 2"
   ]
  },
  {
   "cell_type": "code",
   "execution_count": 21,
   "id": "1e16987e",
   "metadata": {},
   "outputs": [],
   "source": [
    "A = pd.DataFrame([30,27,21,27,29,30,20,20,27,32,35,22,24,23,25,27,23,27,23,25,21,18,24,26,33,26,27,28,19,25])\n",
    "B = pd.DataFrame([37,39,31,31,34,38,30,36,29,28,38,28,37,37,30,32,31,31,27,32,33,33,33,31,32,33,26,32,33,29])"
   ]
  },
  {
   "cell_type": "code",
   "execution_count": 32,
   "id": "8deb49da",
   "metadata": {},
   "outputs": [],
   "source": [
    "#A ve A'nın grubu\n",
    "GRUP_A = np.arange(len(A))\n",
    "GRUP_A = pd.DataFrame(GRUP_A)\n",
    "GRUP_A[:] = \"A\"\n",
    "A = pd.concat([A,GRUP_A], axis=1)"
   ]
  },
  {
   "cell_type": "code",
   "execution_count": 41,
   "id": "d057b4d3",
   "metadata": {},
   "outputs": [],
   "source": [
    "#B ve B'nin grubu\n",
    "GRUP_B = np.arange(len(B))\n",
    "GRUP_B = pd.DataFrame(GRUP_B)\n",
    "GRUP_B[:] = \"B\"\n",
    "B = pd.concat([B, GRUP_B], axis=1)"
   ]
  },
  {
   "cell_type": "code",
   "execution_count": 49,
   "id": "bce01aa2",
   "metadata": {},
   "outputs": [
    {
     "name": "stdout",
     "output_type": "stream",
     "text": [
      "   gelir GRUP\n",
      "0     30    A\n",
      "1     27    A\n",
      "2     21    A\n",
      "3     27    A\n",
      "4     29    A\n",
      "    gelir GRUP\n",
      "25     33    B\n",
      "26     26    B\n",
      "27     32    B\n",
      "28     33    B\n",
      "29     29    B\n"
     ]
    }
   ],
   "source": [
    "# Tüm Veri\n",
    "AB = pd.concat([A,B])\n",
    "AB.columns = [\"gelir\", \"GRUP\"]\n",
    "print(AB.head())\n",
    "print(AB.tail())"
   ]
  },
  {
   "cell_type": "code",
   "execution_count": 50,
   "id": "9d531c1b",
   "metadata": {},
   "outputs": [],
   "source": [
    "import seaborn as sns"
   ]
  },
  {
   "cell_type": "code",
   "execution_count": 51,
   "id": "c4eece8b",
   "metadata": {},
   "outputs": [
    {
     "data": {
      "text/plain": [
       "<AxesSubplot:xlabel='GRUP', ylabel='gelir'>"
      ]
     },
     "execution_count": 51,
     "metadata": {},
     "output_type": "execute_result"
    },
    {
     "data": {
      "image/png": "[encoded data removed]",
      "text/plain": [
       "<Figure size 432x288 with 1 Axes>"
      ]
     },
     "metadata": {
      "needs_background": "light"
     },
     "output_type": "display_data"
    }
   ],
   "source": [
    "sns.boxplot(x=\"GRUP\", y=\"gelir\", data=AB)\n",
    "#B grubunun daha yukarıda olduğu gözleniyor. Bu şans eseri mi oluştu yoksa istatistiki olarak böyle mi henüz bilmiyoruz. "
   ]
  },
  {
   "cell_type": "code",
   "execution_count": null,
   "id": "7a66fb27",
   "metadata": {},
   "outputs": [],
   "source": []
  }
 ],
 "metadata": {
  "kernelspec": {
   "display_name": "Python 3 (ipykernel)",
   "language": "python",
   "name": "python3"
  },
  "language_info": {
   "codemirror_mode": {
    "name": "ipython",
    "version": 3
   },
   "file_extension": ".py",
   "mimetype": "text/x-python",
   "name": "python",
   "nbconvert_exporter": "python",
   "pygments_lexer": "ipython3",
   "version": "3.9.12"
  }
 },
 "nbformat": 4,
 "nbformat_minor": 5
}
